{
 "cells": [
  {
   "cell_type": "markdown",
   "id": "b70d1dbf",
   "metadata": {},
   "source": [
    "# Data Science Tools and Ecosystem"
   ]
  },
  {
   "cell_type": "markdown",
   "id": "f4b44c39",
   "metadata": {},
   "source": [
    "In this notebook, Data Science Tools and Ecosystem are summarized"
   ]
  },
  {
   "cell_type": "markdown",
   "id": "3bdefc09",
   "metadata": {},
   "source": [
    "**Objectives**\n",
    "- List popular languages for Data Science\n",
    "- List popular libraries for Data Science\n",
    "- Elaborate a table of Data Sciencie tools\n",
    "- Create codes cell with simple arithmetic expression"
   ]
  },
  {
   "cell_type": "markdown",
   "id": "f0a284b9",
   "metadata": {},
   "source": [
    "Some of the popula languages that Data Scientist use are:\n",
    "1. Python\n",
    "2. R\n",
    "3. SQL\n",
    "4. Java\n",
    "5. C\n",
    "6. C++\n",
    "7. Scala"
   ]
  },
  {
   "cell_type": "markdown",
   "id": "8a797d2b",
   "metadata": {},
   "source": [
    "Some of the commonly used libraries used by Data Scientist include:\n",
    "1. TensorFlow\n",
    "2. Pandas\n",
    "3. NumPy"
   ]
  },
  {
   "cell_type": "markdown",
   "id": "d64dcd26",
   "metadata": {},
   "source": [
    "|Data Science Tools|\n",
    "|-------|\n",
    "|Jupyter|\n",
    "|Spark|\n",
    "|TensorFlow|"
   ]
  },
  {
   "cell_type": "markdown",
   "id": "16d481bd",
   "metadata": {},
   "source": [
    "### Bellow are a few examples of evaluating arithmetic expressions in Python"
   ]
  },
  {
   "cell_type": "markdown",
   "id": "c8aac063",
   "metadata": {},
   "source": [
    "###### This is a simpe arithmeticexpression to multiply then add integers"
   ]
  },
  {
   "cell_type": "code",
   "execution_count": 3,
   "id": "6fa8392a",
   "metadata": {},
   "outputs": [
    {
     "data": {
      "text/plain": [
       "17"
      ]
     },
     "execution_count": 3,
     "metadata": {},
     "output_type": "execute_result"
    }
   ],
   "source": [
    "(3*4)+5"
   ]
  },
  {
   "cell_type": "markdown",
   "id": "6ffe9a65",
   "metadata": {},
   "source": [
    "###### This will convert 200 minutes to hours by divide by 60"
   ]
  },
  {
   "cell_type": "code",
   "execution_count": 4,
   "id": "00ba072b",
   "metadata": {},
   "outputs": [
    {
     "data": {
      "text/plain": [
       "3.3333333333333335"
      ]
     },
     "execution_count": 4,
     "metadata": {},
     "output_type": "execute_result"
    }
   ],
   "source": [
    "200/60"
   ]
  },
  {
   "cell_type": "markdown",
   "id": "a56e331d",
   "metadata": {},
   "source": [
    "## Author\n",
    "Ixquic Lara Tapia "
   ]
  },
  {
   "cell_type": "code",
   "execution_count": null,
   "id": "70283058",
   "metadata": {},
   "outputs": [],
   "source": []
  }
 ],
 "metadata": {
  "kernelspec": {
   "display_name": "Python 3 (ipykernel)",
   "language": "python",
   "name": "python3"
  },
  "language_info": {
   "codemirror_mode": {
    "name": "ipython",
    "version": 3
   },
   "file_extension": ".py",
   "mimetype": "text/x-python",
   "name": "python",
   "nbconvert_exporter": "python",
   "pygments_lexer": "ipython3",
   "version": "3.11.5"
  }
 },
 "nbformat": 4,
 "nbformat_minor": 5
}
